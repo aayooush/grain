{
  "cells": [
    {
      "metadata": {
        "id": "HV4SMb5j_Y22"
      },
      "cell_type": "markdown",
      "source": [
        "# Reading from GCS\n",
        "\n",
        "[![Open in Colab](https://colab.research.google.com/assets/colab-badge.svg)](https://colab.research.google.com/github/google/grain/blob/main/docs/tutorials/data_sources/load_from_gcs_tutorial.ipynb)\n",
        "\n",
        "This document demonstrates how to access and load data from Google Cloud Storage using Grain. To achieve this, we'll utilize Cloud Storage [FUSE](https://cloud.google.com/storage/docs/cloud-storage-fuse/overview), an adapter that allows you to mount GCS buckets as local file systems. By using Cloud Storage FUSE to mount GCS buckets as local file systems, you can access cloud storage data just like local files."
      ]
    },
    {
      "metadata": {
        "id": "IDFo-1Dx_Y23"
      },
      "cell_type": "markdown",
      "source": [
        "## Mount a Cloud Storage location into the local filesystem"
      ]
    },
    {
      "metadata": {
        "id": "h6HqcZSQ_Y23"
      },
      "cell_type": "code",
      "source": [
        "# Authenticate.\n",
        "from google.colab import auth\n",
        "auth.authenticate_user()"
      ],
      "outputs": [],
      "execution_count": null
    },
    {
      "metadata": {
        "id": "EXNR1nfr_Y23"
      },
      "cell_type": "code",
      "source": [
        "# Install Cloud Storage FUSE.\n",
        "!echo \"deb https://packages.cloud.google.com/apt gcsfuse-`lsb_release -c -s` main\" | sudo tee /etc/apt/sources.list.d/gcsfuse.list\n",
        "!curl https://packages.cloud.google.com/apt/doc/apt-key.gpg | sudo apt-key add -\n",
        "!apt -qq update \u0026\u0026 apt -qq install gcsfuse"
      ],
      "outputs": [],
      "execution_count": null
    },
    {
      "metadata": {
        "id": "0Ajla2LNdRVq"
      },
      "cell_type": "markdown",
      "source": [
        "The gcsfuse CLI offers various configurable options, detailed at https://cloud.google.com/storage/docs/gcsfuse-cli. Utilizing certain options, such as the caching features described at https://cloud.google.com/storage/docs/cloud-storage-fuse/caching, can enhance read performance and lower costs. For instance, MaxText setup gcsfuse flags ([MaxText gcsfuse setting link](https://github.com/AI-Hypercomputer/maxtext/blob/4e36b61cf40698224c5251c4aa4086df24140bd1/setup_gcsfuse.sh#L48)) to reduce data loading time for training. We advise users to consider adopting similar settings or customizing their own gcsfuse options."
      ]
    },
    {
      "metadata": {
        "id": "bqz6cD7xl7F3"
      },
      "cell_type": "code",
      "source": [
        "# Mount a Cloud Storage bucket or location, without the gs:// prefix.\n",
        "mount_path = \"my-bucket\"  # or a location like \"my-bucket/path/to/mount\"\n",
        "local_path = f\"./mnt/gs/{mount_path}\"\n",
        "\n",
        "!mkdir -p {local_path}\n",
        "# The flags below are configured to improve GCS data loading performance. Users are encouraged to explore alternative settings and we would greatly appreciate any feedback or insights shared with the Grain team.\n",
        "!gcsfuse --implicit-dirs --type-cache-max-size-mb=-1 --stat-cache-max-size-mb=-1 --kernel-list-cache-ttl-secs=-1 --metadata-cache-ttl-secs=-1 {mount_path} {local_path}"
      ],
      "outputs": [],
      "execution_count": null
    },
    {
      "metadata": {
        "id": "j2e8nv0j_Y23"
      },
      "cell_type": "code",
      "source": [
        "# Then you can access it like a local path.\n",
        "!ls -lh {local_path}"
      ],
      "outputs": [],
      "execution_count": null
    },
    {
      "metadata": {
        "id": "BpCK0dm4_Y23"
      },
      "cell_type": "markdown",
      "source": [
        "## Read files using Grain\n",
        "\n",
        "If your data is in an ArrayRecord file, you can directly load it using `grain.sources.ArrayRecordDataSource`. For information on handling other file formats, please see the Grain data sources documentation at: https://google-grain.readthedocs.io/en/latest/data_sources.html"
      ]
    },
    {
      "metadata": {
        "id": "yisjIpbZ_Y23"
      },
      "cell_type": "code",
      "source": [
        "# Install Grain.\n",
        "!pip install grain"
      ],
      "outputs": [],
      "execution_count": null
    },
    {
      "metadata": {
        "id": "pvNTx6sL_Y23"
      },
      "cell_type": "code",
      "source": [
        "import grain\n",
        "\n",
        "source = grain.sources.ArrayRecordDataSource(local_path+\"/local_file_name\")\n",
        "\n",
        "# Create a dataset from the data source then process the data.\n",
        "dataset = (\n",
        "    grain.MapDataset.source(source)\n",
        "    .shuffle(seed=10)  # Shuffles globally.\n",
        "    .batch(batch_size=2)  # Batches consecutive elements.\n",
        ")"
      ],
      "outputs": [],
      "execution_count": null
    },
    {
      "metadata": {
        "id": "bJIYx60H_Y23"
      },
      "cell_type": "code",
      "source": [
        "# Output a record at a random index\n",
        "print(dataset[10])"
      ],
      "outputs": [],
      "execution_count": null
    }
  ],
  "metadata": {
    "colab": {
      "provenance": []
    },
    "kernelspec": {
      "display_name": "Python 3",
      "name": "python3"
    },
    "language_info": {
      "name": "python"
    }
  },
  "nbformat": 4,
  "nbformat_minor": 0
}
