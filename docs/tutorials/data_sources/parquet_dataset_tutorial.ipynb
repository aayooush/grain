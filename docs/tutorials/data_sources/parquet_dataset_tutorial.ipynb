{
  "cells": [
    {
      "cell_type": "markdown",
      "metadata": {
        "id": "DQk1knFmoaw_"
      },
      "source": [
        "# Reading Apache Parquet Files\n",
        "\n",
        "[![Open in Colab](https://colab.research.google.com/assets/colab-badge.svg)](https://colab.research.google.com/github/google/grain/blob/main/docs/tutorials/parquet_dataset_tutorial.ipynb)\n",
        "\n",
        "This tutorial provides an example of how to read data from [Apache Parquet](https://parquet.apache.org/) file, also covers how to process and transform the data with Grain.\n"
      ]
    },
    {
      "cell_type": "markdown",
      "metadata": {
        "id": "ZW0hSbMYtn0s"
      },
      "source": [
        "## Generate a test Parquet file on local"
      ]
    },
    {
      "cell_type": "code",
      "execution_count": null,
      "metadata": {
        "id": "dFnwN6NNw0Oe"
      },
      "outputs": [],
      "source": [
        "import pyarrow as pa\n",
        "import pyarrow.parquet as pq\n",
        "\n",
        "# Generate a sample PyArrow table containing email subjects and bodies.\n",
        "table = pa.table({\n",
        "    'email_subject': [\n",
        "        \"Meeting Reminder: Project X Update\",\n",
        "        \"Important Announcement Regarding Company Policy\",\n",
        "        \"FWD: Quick Question\",\n",
        "        \"Your Order Confirmation #12345\",\n",
        "        \"Invitation to Team Building Activity\"\n",
        "    ],\n",
        "    'email_body': [\n",
        "        \"Hi team,\\n\\nJust a reminder about our Project X update meeting tomorrow at 10 AM PST. Please come prepared to discuss your progress and any roadblocks.\\n\\nSee you there,\\n[Your Name]\",\n",
        "        \"Dear employees,\\n\\nPlease be advised of a new company policy regarding remote work, effective May 1st, 2025. You can find the full details on the company intranet.\\n\\nRegards,\\nManagement\",\n",
        "        \"Hi [Name],\\n\\nForwarding you this email as you might have the answer to this quick question:\\n\\n[Original Email Content]\",\n",
        "        \"Dear [Customer Name],\\n\\nThank you for your recent order! This email confirms your order #12345. You can view the details and track its shipment here: [Link]\\n\\nSincerely,\\nThe [Company Name] Team\",\n",
        "        \"Hello everyone,\\n\\nYou're invited to participate in our upcoming team building activity on Friday, April 28th. It will be a fun afternoon of [Activity]. Please RSVP by Wednesday.\\n\\nBest,\\n[Organizer Name]\"\n",
        "    ]\n",
        "})\n",
        "\n",
        "# Write this table to a parquet file.\n",
        "writer = pq.ParquetWriter('emails.parquet', table.schema)\n",
        "writer.write_table(table)\n",
        "writer.close()\n"
      ]
    },
    {
      "cell_type": "markdown",
      "metadata": {
        "id": "-fvKIjtRD7v9"
      },
      "source": [
        "## Load Dataset"
      ]
    },
    {
      "cell_type": "code",
      "execution_count": null,
      "metadata": {
        "id": "fNIApmKT34ac"
      },
      "outputs": [],
      "source": [
        "# Install Grain\n",
        "!pip install grain"
      ]
    },
    {
      "cell_type": "code",
      "execution_count": null,
      "metadata": {
        "id": "nb5yPasvDwaj"
      },
      "outputs": [],
      "source": [
        "import grain\n",
        "import pprint"
      ]
    },
    {
      "cell_type": "code",
      "execution_count": null,
      "metadata": {
        "id": "62_D74LkdrQn"
      },
      "outputs": [],
      "source": [
        "ds = grain.experimental.ParquetIterDataset('./emails.parquet')"
      ]
    },
    {
      "cell_type": "code",
      "execution_count": null,
      "metadata": {
        "id": "DlhbJX5zdrQo"
      },
      "outputs": [],
      "source": [
        "list(ds)[0]"
      ]
    },
    {
      "cell_type": "markdown",
      "metadata": {
        "id": "BAXS0bgKdrQo"
      },
      "source": [
        "## Transform Dataset"
      ]
    },
    {
      "cell_type": "code",
      "execution_count": null,
      "metadata": {
        "id": "1qevksHMdrQo"
      },
      "outputs": [],
      "source": [
        "# Load a pre trained tokenizer.\n",
        "from tokenizers import Tokenizer\n",
        "tokenizer = Tokenizer.from_pretrained(\"bert-base-cased\")"
      ]
    },
    {
      "cell_type": "code",
      "execution_count": null,
      "metadata": {
        "id": "PNPv8LEGdrQo"
      },
      "outputs": [],
      "source": [
        "class TokenizeText(grain.transforms.Map):\n",
        "  \"\"\"Tokenizes the text values within each element using a provided tokenizer.\"\"\"\n",
        "  def __init__(self, tokenizer):\n",
        "    self._tokenizer = tokenizer\n",
        "\n",
        "  def map(self, element):\n",
        "    return [self._tokenizer.encode(item).tokens for item in element.values()]"
      ]
    },
    {
      "cell_type": "code",
      "execution_count": null,
      "metadata": {
        "id": "O5vnwj7cek30"
      },
      "outputs": [],
      "source": [
        "# Tokenize the data using the provided tokenizer.\n",
        "ds = ds.map(TokenizeText(tokenizer))"
      ]
    },
    {
      "cell_type": "code",
      "execution_count": null,
      "metadata": {
        "id": "46ZVbfmtek30"
      },
      "outputs": [],
      "source": [
        "# Create an iterator object of the dataset.\n",
        "ds_iter = iter(ds)\n",
        "# Print the first element in the dataset.\n",
        "pprint.pprint(next(ds_iter))"
      ]
    }
  ],
  "metadata": {
    "colab": {
      "last_runtime": {
        "build_target": "//learning/grp/tools/ml_python:ml_notebook",
        "kind": "private"
      },
      "private_outputs": true,
      "provenance": [
        {
          "file_id": "1JbSnqHDYHFt_nLm24U_xmtL8czPgUaU6",
          "timestamp": 1744760988378
        }
      ]
    },
    "kernelspec": {
      "display_name": "Python 3",
      "name": "python3"
    },
    "language_info": {
      "name": "python"
    }
  },
  "nbformat": 4,
  "nbformat_minor": 0
}
