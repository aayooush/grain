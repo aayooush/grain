{
 "cells": [
  {
   "cell_type": "markdown",
   "metadata": {
    "id": "9ufbgPooUPJr"
   },
   "source": [
    "# Advanced `Dataset` usage\n",
    "\n",
    "[![Open in Colab](https://colab.research.google.com/assets/colab-badge.svg)](https://colab.research.google.com/github/google/grain/blob/main/docs/tutorials/dataset_advanced_tutorial.ipynb)\n",
    "\n",
    "If you decided to use `Dataset` APIs, there's a good chance you want to do one or more processing steps described in this section, especially if working on data ingestion for generative model training."
   ]
  },
  {
   "cell_type": "code",
   "execution_count": null,
   "metadata": {
    "id": "OFw1tjvkP3wb"
   },
   "outputs": [],
   "source": [
    "# @test {\"output\": \"ignore\"}\n",
    "!pip install grain\n",
    "# @test {\"output\": \"ignore\"}\n",
    "!pip install tensorflow_datasets"
   ]
  },
  {
   "cell_type": "code",
   "execution_count": 1,
   "metadata": {
    "id": "fwvOt8-cqcQn"
   },
   "outputs": [],
   "source": [
    "import pprint\n",
    "import grain.python as grain\n",
    "import numpy as np\n",
    "import tensorflow_datasets as tfds"
   ]
  },
  {
   "cell_type": "markdown",
   "metadata": {
    "id": "0ur4szH9l5_H"
   },
   "source": [
    "## Checkpointing\n",
    "\n",
    "We provide `PyGrainCheckpoint{Save|Restore}` to checkpoint the\n",
    "`DatasetIterator`. It is recommended to use it with\n",
    "[Orbax](https://orbax.readthedocs.io/en/latest/index.html), which can checkpoint\n",
    "both, input pipeline and model, and handles the edge cases for distributed\n",
    "training."
   ]
  },
  {
   "cell_type": "code",
   "execution_count": 10,
   "metadata": {
    "id": "Tf-4Ljd2l5_H"
   },
   "outputs": [
    {
     "name": "stdout",
     "output_type": "stream",
     "text": [
      "0 7\n",
      "1 4\n",
      "2 0\n",
      "3 1\n"
     ]
    }
   ],
   "source": [
    "ds = (\n",
    "    grain.MapDataset.source(tfds.data_source(\"mnist\", split=\"train\"))\n",
    "    .seed(seed=45)\n",
    "    .shuffle()\n",
    "    .to_iter_dataset()\n",
    ")\n",
    "\n",
    "num_steps = 4\n",
    "ds_iter = iter(ds)\n",
    "\n",
    "# Read some elements.\n",
    "for i in range(num_steps):\n",
    "  x = next(ds_iter)\n",
    "  print(i, x[\"label\"])"
   ]
  },
  {
   "cell_type": "code",
   "execution_count": null,
   "metadata": {
    "id": "Wb2y5VoTl5_H"
   },
   "outputs": [],
   "source": [
    "# @test {\"output\": \"ignore\"}\n",
    "!pip install orbax"
   ]
  },
  {
   "cell_type": "code",
   "execution_count": 19,
   "metadata": {
    "id": "PGn-eSYil5_H"
   },
   "outputs": [
    {
     "name": "stdout",
     "output_type": "stream",
     "text": [
      "/tmp/orbax:\n",
      "4\n",
      "\n",
      "/tmp/orbax/4:\n",
      "_CHECKPOINT_METADATA\n",
      "default\n",
      "descriptor\n",
      "\n",
      "/tmp/orbax/4/default:\n",
      "process_0-of-1.json\n",
      "\n",
      "/tmp/orbax/4/descriptor:\n",
      "descriptor.pbtxt\n"
     ]
    }
   ],
   "source": [
    "import orbax.checkpoint as ocp\n",
    "\n",
    "mngr = ocp.CheckpointManager(\"/tmp/orbax\")\n",
    "\n",
    "!rm -rf /tmp/orbax\n",
    "\n",
    "# Save the checkpoint.\n",
    "assert mngr.save(\n",
    "    step=num_steps, args=grain.PyGrainCheckpointSave(ds_iter), force=True\n",
    ")\n",
    "# Checkpoint saving in Orbax is asynchronous by default, so we'll wait until\n",
    "# finished before examining checkpoint.\n",
    "mngr.wait_until_finished()\n",
    "\n",
    "# @test {\"output\": \"ignore\"}\n",
    "!ls -R /tmp/orbax"
   ]
  },
  {
   "cell_type": "code",
   "execution_count": 13,
   "metadata": {
    "id": "F012QoCJl5_H"
   },
   "outputs": [
    {
     "name": "stdout",
     "output_type": "stream",
     "text": [
      "{\n",
      "    \"next_index\": 4\n",
      "}"
     ]
    }
   ],
   "source": [
    "!cat /tmp/orbax/*/*/*.json"
   ]
  },
  {
   "cell_type": "code",
   "execution_count": 14,
   "metadata": {
    "id": "HURK2viXl5_H"
   },
   "outputs": [
    {
     "name": "stdout",
     "output_type": "stream",
     "text": [
      "4 7\n",
      "5 4\n",
      "6 8\n",
      "7 0\n"
     ]
    }
   ],
   "source": [
    "# Read more elements and advance the iterator.\n",
    "for i in range(4, 8):\n",
    "  x = next(ds_iter)\n",
    "  print(i, x[\"label\"])"
   ]
  },
  {
   "cell_type": "code",
   "execution_count": 15,
   "metadata": {
    "id": "u92Vkn1Hl5_H"
   },
   "outputs": [
    {
     "name": "stdout",
     "output_type": "stream",
     "text": [
      "4 7\n",
      "5 4\n",
      "6 8\n",
      "7 0\n"
     ]
    }
   ],
   "source": [
    "# Restore iterator from the previously saved checkpoint.\n",
    "mngr.restore(num_steps, args=grain.PyGrainCheckpointRestore(ds_iter))\n",
    "# Iterator should be set back to start from 4.\n",
    "for i in range(4, 8):\n",
    "  x = next(ds_iter)\n",
    "  print(i, x[\"label\"])"
   ]
  },
  {
   "cell_type": "markdown",
   "metadata": {
    "id": "GfA_bctscNyV"
   },
   "source": [
    "## Mixing datasets\n",
    "\n",
    "`Dataset` allows mixing multiple data sources with potentially different transformations. There's two different ways of mixing `Dataset`s: `MapDataset.mix` and `IterDataset.mix`. If the mixed `Datasets` are sparse (e.g. one of the mixture components needs to be filtered) use `IterDataset.mix`, otherwise use `MapDataset.mix`."
   ]
  },
  {
   "cell_type": "code",
   "execution_count": 5,
   "metadata": {
    "id": "e8ROZXhtwOx3"
   },
   "outputs": [
    {
     "name": "stdout",
     "output_type": "stream",
     "text": [
      "Mixed dataset length = 6728\n",
      "(28, 28, 1)\n"
     ]
    }
   ],
   "source": [
    "tfds.core.DatasetInfo.file_format = (\n",
    "    tfds.core.file_adapters.FileFormat.ARRAY_RECORD\n",
    ")\n",
    "# This particular dataset mixes medical images with hand written numbers,\n",
    "# probably not useful but allows to illustrate the API on small datasets.\n",
    "source1 = tfds.data_source(name=\"pneumonia_mnist\", split=\"train\")\n",
    "source2 = tfds.data_source(name=\"mnist\", split=\"train\")\n",
    "ds1 = grain.MapDataset.source(source1).map(lambda features: features[\"image\"])\n",
    "ds2 = grain.MapDataset.source(source2).map(lambda features: features[\"image\"])\n",
    "ds = grain.MapDataset.mix([ds1, ds2], weights=[0.7, 0.3])\n",
    "print(f\"Mixed dataset length = {len(ds)}\")\n",
    "pprint.pprint(np.shape(ds[0]))"
   ]
  },
  {
   "cell_type": "markdown",
   "metadata": {
    "id": "crR2FZ1Gf6-O"
   },
   "source": [
    "If filtering inputs to the mixture, use `IterDataset.mix`."
   ]
  },
  {
   "cell_type": "code",
   "execution_count": 6,
   "metadata": {
    "id": "DTmUbvK4r8T8"
   },
   "outputs": [
    {
     "name": "stdout",
     "output_type": "stream",
     "text": [
      "(28, 28, 1)\n"
     ]
    }
   ],
   "source": [
    "source1 = tfds.data_source(name=\"pneumonia_mnist\", split=\"train\")\n",
    "source2 = tfds.data_source(name=\"mnist\", split=\"train\")\n",
    "ds1 = (\n",
    "    grain.MapDataset.source(source1)\n",
    "    .filter(lambda features: int(features[\"label\"]) == 1)\n",
    "    .to_iter_dataset()\n",
    ")\n",
    "ds2 = (\n",
    "    grain.MapDataset.source(source2)\n",
    "    .filter(lambda features: int(features[\"label\"]) > 4)\n",
    "    .to_iter_dataset()\n",
    ")\n",
    "\n",
    "ds = grain.IterDataset.mix([ds1, ds2], weights=[0.7, 0.3]).map(\n",
    "    lambda features: features[\"image\"]\n",
    ")\n",
    "pprint.pprint(np.shape(next(iter(ds))))"
   ]
  },
  {
   "cell_type": "markdown",
   "metadata": {
    "id": "8TKInCDc6GUH"
   },
   "source": [
    "### Multi-epoch training\n",
    "\n",
    "Mixed dataset length is determined by a combination of the length of the shortest input dataset and mixing weights. This means that once the shortest component is exhausted the new epoch will begin and the remainder of other datasets is going to be discarded. This can be avoided by repeating inputs to the mixture."
   ]
  },
  {
   "cell_type": "code",
   "execution_count": 7,
   "metadata": {
    "id": "JqetaYR36GUH"
   },
   "outputs": [
    {
     "name": "stdout",
     "output_type": "stream",
     "text": [
      "Mixed dataset length = 9223372036854775807\n",
      "Mixed dataset length = 9223372036854775807\n",
      "Mixed dataset length = 9223372036854775807\n"
     ]
    }
   ],
   "source": [
    "source1 = tfds.data_source(name=\"pneumonia_mnist\", split=\"train\")\n",
    "source2 = tfds.data_source(name=\"mnist\", split=\"train\")\n",
    "ds1 = grain.MapDataset.source(source1).repeat()\n",
    "ds2 = grain.MapDataset.source(source2).repeat()\n",
    "\n",
    "ds = grain.MapDataset.mix([ds1, ds2], weights=[1, 2])\n",
    "print(f\"Mixed dataset length = {len(ds1)}\")  # sys.maxsize\n",
    "print(f\"Mixed dataset length = {len(ds2)}\")  # sys.maxsize\n",
    "# Ds1 and ds2 are repeated to fill out the sys.maxsize with respect to weights.\n",
    "print(f\"Mixed dataset length = {len(ds)}\")  # sys.maxsize"
   ]
  },
  {
   "cell_type": "markdown",
   "metadata": {
    "id": "aulM2cVQlneY"
   },
   "source": [
    "### Shuffling\n",
    "\n",
    "If you need to globally shuffle the mixed data prefer shuffling individual\n",
    "`Dataset`s before mixing. This will ensure that the actual weights of the mixed\n",
    "`Dataset`s are stable and as close as possible to the provided weights.\n",
    "\n",
    "Additionally, make sure to provide different seeds to different mixture\n",
    "components. This way there's no chance of introducing a seed dependency between\n",
    "the components if the random transformations overlap."
   ]
  },
  {
   "cell_type": "code",
   "execution_count": 8,
   "metadata": {
    "id": "OTveP3UQE7xv"
   },
   "outputs": [
    {
     "name": "stdout",
     "output_type": "stream",
     "text": [
      "Mixed dataset length = 9223372036854775807\n"
     ]
    }
   ],
   "source": [
    "source1 = tfds.data_source(name=\"pneumonia_mnist\", split=\"train\")\n",
    "source2 = tfds.data_source(name=\"mnist\", split=\"train\")\n",
    "ds1 = grain.MapDataset.source(source1).seed(42).shuffle().repeat()\n",
    "ds2 = grain.MapDataset.source(source2).seed(43).shuffle().repeat()\n",
    "\n",
    "ds = grain.MapDataset.mix([ds1, ds2], weights=[1, 2])\n",
    "print(f\"Mixed dataset length = {len(ds1)}\")  # sys.maxsize"
   ]
  }
 ],
 "metadata": {
  "colab": {
   "provenance": [],
   "toc_visible": true
  },
  "jupytext": {
   "formats": "ipynb,md:myst"
  },
  "kernelspec": {
   "display_name": "Python 3",
   "name": "python3"
  },
  "language_info": {
   "name": "python"
  }
 },
 "nbformat": 4,
 "nbformat_minor": 0
}
